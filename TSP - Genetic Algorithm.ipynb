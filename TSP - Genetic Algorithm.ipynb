{
 "cells": [
  {
   "cell_type": "code",
   "execution_count": 141,
   "id": "a336e2cd",
   "metadata": {},
   "outputs": [],
   "source": [
    "import random\n",
    "import math\n",
    "import pandas as pd\n",
    "import numpy as np"
   ]
  },
  {
   "cell_type": "code",
   "execution_count": 142,
   "id": "c00e7f91",
   "metadata": {},
   "outputs": [],
   "source": [
    "class City:\n",
    "    def __init__(self, xCord, yCord, zCord):\n",
    "        self.xCord = xCord\n",
    "        self.yCord = yCord\n",
    "        self.zCord = zCord\n",
    "        \n",
    "    def displayCityCoordinates(self):\n",
    "        print('('+str(self.xCord)+','+str(self.yCord)+','+str(self.zCord)+')')\n",
    "        \n",
    "        \n",
    "def distanceBetweenTepCities(fromCity, toCity):\n",
    "    return(math.sqrt(abs(fromCity.xCord - toCity.xCord)**2 + abs(fromCity.yCord - toCity.yCord)**2 + abs(fromCity.zCord - toCity.zCord)**2))"
   ]
  },
  {
   "cell_type": "code",
   "execution_count": 143,
   "id": "3d532f75",
   "metadata": {},
   "outputs": [],
   "source": [
    "class route:\n",
    "    def __init__(self, route):\n",
    "        self.route = route\n",
    "        self.route_distance = 0\n",
    "        self.route_fitness = 0.0\n",
    "        \n",
    "    def findDistance(self):\n",
    "        if self.route_distance == 0:\n",
    "            distance = 0\n",
    "            for i in range(len(self.route)):\n",
    "                fromCity = self.route[i]\n",
    "                if i+1 < len(self.route):\n",
    "                    toCity = self.route[i+1]\n",
    "                else:\n",
    "                    toCity = self.route[0]\n",
    "                distance += distanceBetweenTepCities(fromCity, toCity)\n",
    "            self.route_distance = distance\n",
    "                \n",
    "        \n",
    "    def fitness(self):\n",
    "        if self.route_fitness == 0.0:\n",
    "            self.findDistance()\n",
    "            self.route_fitness = 1/(self.route_distance)\n",
    "        return self.route_fitness"
   ]
  },
  {
   "cell_type": "code",
   "execution_count": 163,
   "id": "fb0696a1",
   "metadata": {},
   "outputs": [],
   "source": [
    "def readInputFile(fileName):\n",
    "    noOfCities = None\n",
    "    inputList = []\n",
    "    countFlag = 0\n",
    "    cities = []\n",
    "\n",
    "    with open(fileName) as f:\n",
    "        for line in f:\n",
    "            if countFlag == 0:\n",
    "                countFlag = 1\n",
    "                noOfCities = int(line[:-1])\n",
    "            else:\n",
    "                coordinates = line[:-1].split(' ')\n",
    "                city = City(int(coordinates[0]), int(coordinates[1]), int(coordinates[2]))\n",
    "                cities.append(city)\n",
    "\n",
    "    return noOfCities, cities"
   ]
  },
  {
   "cell_type": "code",
   "execution_count": 145,
   "id": "70c92645",
   "metadata": {},
   "outputs": [],
   "source": [
    "def createRandomRoutes(citiesList):\n",
    "    citiesList = random.sample(citiesList, len(citiesList))\n",
    "    return citiesList"
   ]
  },
  {
   "cell_type": "code",
   "execution_count": 146,
   "id": "00a9412d",
   "metadata": {},
   "outputs": [],
   "source": [
    "def createInitialPopulation(citiesList, populationSize):\n",
    "    population = [citiesList]\n",
    "    \n",
    "    for i in range(populationSize-1):\n",
    "        population.append(createRandomRoutes(citiesList))\n",
    "    \n",
    "    return population"
   ]
  },
  {
   "cell_type": "code",
   "execution_count": 147,
   "id": "4719e65a",
   "metadata": {},
   "outputs": [],
   "source": [
    "def findFitness(population):\n",
    "    populationFitness = {}\n",
    "    \n",
    "    for i in range(len(population)):\n",
    "        populationFitness[i] = route(population[i]).fitness()\n",
    "        \n",
    "    return sorted(populationFitness.items(), key = lambda item:item[1], reverse = True)"
   ]
  },
  {
   "cell_type": "code",
   "execution_count": 148,
   "id": "b0ea90a1",
   "metadata": {},
   "outputs": [],
   "source": [
    "def parentSelection(population):\n",
    "    parents = []\n",
    "    \n",
    "    populationdf = pd.DataFrame(np.array(population), columns=[\"Index\",\"Fitness\"])\n",
    "    populationdf['cum_sum'] = populationdf.Fitness.cumsum()\n",
    "    \n",
    "    totalSum = populationdf['Fitness'].sum()\n",
    "    \n",
    "    for i in range(int(len(population)*0.2)):\n",
    "        parents.append(population[i])\n",
    "        \n",
    "    for i in range(len(population) - int(len(population)*0.2)):\n",
    "        randomValue = random.uniform(0,totalSum)\n",
    "        \n",
    "        df = populationdf[populationdf['cum_sum'] > randomValue]\n",
    "        index = df.iat[0,0]\n",
    "        populationIndex = populationdf[ populationdf['Index'] == index ].index[0]\n",
    "        \n",
    "        parents.append(population[populationIndex])\n",
    "        \n",
    "    return parents"
   ]
  },
  {
   "cell_type": "code",
   "execution_count": 149,
   "id": "60d26d7a",
   "metadata": {},
   "outputs": [],
   "source": [
    "def crossOver(parent1, parent2):\n",
    "    startIndex = int(random.uniform(0,len(parent1)))\n",
    "    endIndex = int(random.uniform(0,len(parent1)))\n",
    "    \n",
    "    if startIndex == endIndex:\n",
    "        if startIndex == (len(parent1) - 1):\n",
    "            endIndex = startIndex - 1\n",
    "        else:\n",
    "            endIndex = startIndex + 1\n",
    "    \n",
    "    sIndex = min(startIndex,endIndex)\n",
    "    eIndex = max(endIndex,startIndex)\n",
    "    \n",
    "    child1 = parent1[sIndex:eIndex]\n",
    "    \n",
    "    child2 = []\n",
    "    if sIndex != 0:\n",
    "        for city in parent2:\n",
    "            if city not in child1:\n",
    "                if len(child2) != sIndex:\n",
    "                    child2.append(city)\n",
    "                else:\n",
    "                    break\n",
    "    child = child1 + child2\n",
    "    \n",
    "    child3 = [city for city in parent2 if city not in child]\n",
    "    child += child3\n",
    "    \n",
    "    return child\n",
    "    "
   ]
  },
  {
   "cell_type": "code",
   "execution_count": 150,
   "id": "75981d97",
   "metadata": {},
   "outputs": [],
   "source": [
    "def breedPopulation(populationPool):\n",
    "    children = []\n",
    "    \n",
    "    for i in range(int(len(populationPool)*0.2)):\n",
    "        children.append(populationPool[i])\n",
    "        \n",
    "    shufflePool = random.sample(populationPool, len(populationPool))\n",
    "    \n",
    "    for i in range(len(populationPool) - int(len(populationPool)*0.2)):\n",
    "        ind = int(random.uniform(0,len(shufflePool)))\n",
    "        if ind == i:\n",
    "            if i == 0:\n",
    "                ind += 1\n",
    "            else:\n",
    "                ind -= 1\n",
    "        child = crossOver(shufflePool[i], shufflePool[ind])\n",
    "        children.append(child)\n",
    "        \n",
    "    return children\n",
    "        \n",
    "    "
   ]
  },
  {
   "cell_type": "code",
   "execution_count": 151,
   "id": "0a20508f",
   "metadata": {},
   "outputs": [],
   "source": [
    "def createParentPool(parents, population):\n",
    "    parentPool = []\n",
    "    \n",
    "    for i in range(len(parents)):\n",
    "        ind = parents[i][0]\n",
    "        parentPool.append(population[ind])\n",
    "        \n",
    "    return parentPool\n",
    "    "
   ]
  },
  {
   "cell_type": "code",
   "execution_count": 164,
   "id": "acdd217c",
   "metadata": {},
   "outputs": [],
   "source": [
    "def displayRoute(route):\n",
    "    for i in route:\n",
    "        print('('+str(i.xCord)+','+str(i.yCord)+','+str(i.zCord)+')')"
   ]
  },
  {
   "cell_type": "code",
   "execution_count": 176,
   "id": "9d5204ba",
   "metadata": {
    "scrolled": true
   },
   "outputs": [
    {
     "name": "stdout",
     "output_type": "stream",
     "text": [
      "distance:180.09086218218096\n",
      "(60,103,97)\n",
      "(61,103,97)\n",
      "(62,103,97)\n",
      "(63,103,97)\n",
      "(64,103,97)\n",
      "(60,103,9)\n"
     ]
    }
   ],
   "source": [
    "noOfCities, citiesList = readInputFile('input.txt')\n",
    "\n",
    "currentGeneration = createInitialPopulation(citiesList,100)\n",
    "\n",
    "for i in range(100):\n",
    "    currentGenerationFitness = findFitness(currentGeneration)\n",
    "    parents = parentSelection(currentGenerationFitness)\n",
    "    parentPool = createParentPool(parents, initialPopulation)\n",
    "    nextGeneration = breedPopulation(parentPool)\n",
    "    currentGeneration = nextGeneration\n",
    "    \n",
    "\n",
    "print('distance:'+str(1/findFitness(currentGeneration)[0][1]))\n",
    "displayRoute(currentGeneration[findFitness(currentGeneration)[0][0]])"
   ]
  },
  {
   "cell_type": "code",
   "execution_count": null,
   "id": "9659a9bf",
   "metadata": {},
   "outputs": [],
   "source": []
  },
  {
   "cell_type": "code",
   "execution_count": null,
   "id": "4de29acc",
   "metadata": {},
   "outputs": [],
   "source": []
  }
 ],
 "metadata": {
  "kernelspec": {
   "display_name": "Python 3 (ipykernel)",
   "language": "python",
   "name": "python3"
  },
  "language_info": {
   "codemirror_mode": {
    "name": "ipython",
    "version": 3
   },
   "file_extension": ".py",
   "mimetype": "text/x-python",
   "name": "python",
   "nbconvert_exporter": "python",
   "pygments_lexer": "ipython3",
   "version": "3.11.5"
  }
 },
 "nbformat": 4,
 "nbformat_minor": 5
}
